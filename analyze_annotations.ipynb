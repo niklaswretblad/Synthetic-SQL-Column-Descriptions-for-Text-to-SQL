{
 "cells": [
  {
   "cell_type": "code",
   "execution_count": 11,
   "metadata": {},
   "outputs": [
    {
     "name": "stdout",
     "output_type": "stream",
     "text": [
      "   Unnamed: 0            database_name table_name original_column_name  \\\n",
      "0           0  debit_card_specializing  yearmonth           CustomerID   \n",
      "1           1  debit_card_specializing  yearmonth                 Date   \n",
      "2           2  debit_card_specializing  yearmonth          Consumption   \n",
      "\n",
      "   column_name column_description data_format value_description type  \\\n",
      "0  Customer ID        Customer ID     integer               NaN    F   \n",
      "1          NaN               Date        text               NaN    P   \n",
      "2          NaN        consumption        real               NaN  NaN   \n",
      "\n",
      "         Annotation Comment  \n",
      "0  Somewhat correct     NaN  \n",
      "1  Somewhat correct     NaN  \n",
      "2  Somewhat correct     NaN  \n",
      "   Unnamed: 0            database_name table_name original_column_name  \\\n",
      "0           0  debit_card_specializing  yearmonth           CustomerID   \n",
      "1           1  debit_card_specializing  yearmonth                 Date   \n",
      "2           2  debit_card_specializing  yearmonth          Consumption   \n",
      "\n",
      "   column_name column_description data_format value_description type  \\\n",
      "0  Customer ID        Customer ID     integer               NaN    F   \n",
      "1          NaN               Date        text               NaN    P   \n",
      "2          NaN        consumption        real               NaN  NaN   \n",
      "\n",
      "         Annotation Comment  \n",
      "0  Somewhat correct     NaN  \n",
      "1  Somewhat correct     NaN  \n",
      "2  Somewhat correct     NaN  \n"
     ]
    }
   ],
   "source": [
    "import pandas as pd\n",
    "\n",
    "annotator_names = ['Erik', 'Axel']\n",
    "annotations = []\n",
    "\n",
    "for name in annotator_names:\n",
    "    annotations.append(pd.read_excel('annotations/Original_BIRD_Annotations.xlsx', sheet_name=name))\n",
    "\n",
    "for annotation in annotations:\n",
    "    annotation['Annotation'] = annotation['Annotation'].fillna('No description')\n",
    "    print(annotation.head(3))"
   ]
  },
  {
   "cell_type": "code",
   "execution_count": 14,
   "metadata": {},
   "outputs": [
    {
     "name": "stdout",
     "output_type": "stream",
     "text": [
      "The total number of annotations: 799\n",
      "The agreement percentage between the annotators:\n"
     ]
    },
    {
     "data": {
      "text/html": [
       "<div>\n",
       "<style scoped>\n",
       "    .dataframe tbody tr th:only-of-type {\n",
       "        vertical-align: middle;\n",
       "    }\n",
       "\n",
       "    .dataframe tbody tr th {\n",
       "        vertical-align: top;\n",
       "    }\n",
       "\n",
       "    .dataframe thead th {\n",
       "        text-align: right;\n",
       "    }\n",
       "</style>\n",
       "<table border=\"1\" class=\"dataframe\">\n",
       "  <thead>\n",
       "    <tr style=\"text-align: right;\">\n",
       "      <th></th>\n",
       "      <th>Erik</th>\n",
       "      <th>Axel</th>\n",
       "    </tr>\n",
       "  </thead>\n",
       "  <tbody>\n",
       "    <tr>\n",
       "      <th>Erik</th>\n",
       "      <td>1.00000</td>\n",
       "      <td>0.79224</td>\n",
       "    </tr>\n",
       "    <tr>\n",
       "      <th>Axel</th>\n",
       "      <td>0.79224</td>\n",
       "      <td>1.00000</td>\n",
       "    </tr>\n",
       "  </tbody>\n",
       "</table>\n",
       "</div>"
      ],
      "text/plain": [
       "         Erik     Axel\n",
       "Erik  1.00000  0.79224\n",
       "Axel  0.79224  1.00000"
      ]
     },
     "execution_count": 14,
     "metadata": {},
     "output_type": "execute_result"
    }
   ],
   "source": [
    "import numpy as np \n",
    "\n",
    "# Agreememt percentage\n",
    "agreement = np.zeros((len(annotations), len(annotations)))\n",
    "\n",
    "for anno_idx in range(len(annotations)):\n",
    "    for i in range(len(annotations[anno_idx])):\n",
    "        for anno_2_idx in range(len(annotations)):\n",
    "            if annotations[anno_idx].iloc[i]['Annotation'] == annotations[anno_2_idx].iloc[i]['Annotation']:\n",
    "                agreement[anno_idx, anno_2_idx] += 1\n",
    "\n",
    "agreement = agreement / len(annotations[0])\n",
    "\n",
    "agreement_df = pd.DataFrame(agreement, columns=annotator_names, index=annotator_names)\n",
    "\n",
    "print(f\"The total number of annotations: {len(annotations[0])}\")\n",
    "\n",
    "print(f\"The agreement percentage between the annotators:\")\n",
    "agreement_df"
   ]
  }
 ],
 "metadata": {
  "kernelspec": {
   "display_name": "py39-mac",
   "language": "python",
   "name": "python3"
  },
  "language_info": {
   "codemirror_mode": {
    "name": "ipython",
    "version": 3
   },
   "file_extension": ".py",
   "mimetype": "text/x-python",
   "name": "python",
   "nbconvert_exporter": "python",
   "pygments_lexer": "ipython3",
   "version": "3.9.17"
  }
 },
 "nbformat": 4,
 "nbformat_minor": 2
}
