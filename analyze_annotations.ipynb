{
 "cells": [
  {
   "cell_type": "code",
   "execution_count": 41,
   "metadata": {},
   "outputs": [
    {
     "name": "stdout",
     "output_type": "stream",
     "text": [
      "   Unnamed: 0            database_name table_name original_column_name  \\\n",
      "0           0  debit_card_specializing  yearmonth           CustomerID   \n",
      "1           1  debit_card_specializing  yearmonth                 Date   \n",
      "2           2  debit_card_specializing  yearmonth          Consumption   \n",
      "\n",
      "   column_name column_description data_format value_description type  \\\n",
      "0  Customer ID        Customer ID     integer               NaN    F   \n",
      "1          NaN               Date        text               NaN    P   \n",
      "2          NaN        consumption        real               NaN  NaN   \n",
      "\n",
      "                              llm_column_description Annotation  \\\n",
      "0              The unique identifier for a customer.    Perfect   \n",
      "1             The year and month of the transaction.    Perfect   \n",
      "2  The consumption value for a customer in a spec...    Perfect   \n",
      "\n",
      "   Corrected Description Score after correction  \n",
      "0                    NaN                Perfect  \n",
      "1                    NaN                Perfect  \n",
      "2                    NaN                Perfect  \n",
      "   Unnamed: 0            database_name table_name original_column_name  \\\n",
      "0           0  debit_card_specializing  yearmonth           CustomerID   \n",
      "1           1  debit_card_specializing  yearmonth                 Date   \n",
      "2           2  debit_card_specializing  yearmonth          Consumption   \n",
      "\n",
      "   column_name column_description data_format value_description type  \\\n",
      "0  Customer ID        Customer ID     integer               NaN    F   \n",
      "1          NaN               Date        text               NaN    P   \n",
      "2          NaN        consumption        real               NaN  NaN   \n",
      "\n",
      "                              llm_column_description Annotation  \\\n",
      "0              The unique identifier for a customer.    Perfect   \n",
      "1             The year and month of the transaction.    Perfect   \n",
      "2  The consumption value for a customer in a spec...    Perfect   \n",
      "\n",
      "                    Corrected Description Score after correction  \n",
      "0                                     NaN                Perfect  \n",
      "1  The year and month of the consumption.                Perfect  \n",
      "2                                     NaN                Perfect  \n"
     ]
    }
   ],
   "source": [
    "import pandas as pd\n",
    "\n",
    "annotator_names = ['Axel GOLD', 'Erik GOLD']\n",
    "annotations = []\n",
    "\n",
    "for name in annotator_names:\n",
    "    annotations.append(pd.read_excel('annotations/Difficulty Annotation.xlsx', sheet_name=name))\n",
    "\n",
    "for annotation in annotations:\n",
    "    annotation['Annotation'] = annotation['Annotation'].fillna('No description')\n",
    "    print(annotation.head(3))"
   ]
  },
  {
   "cell_type": "code",
   "execution_count": 42,
   "metadata": {},
   "outputs": [
    {
     "name": "stdout",
     "output_type": "stream",
     "text": [
      "The total number of annotations: 798\n",
      "\n",
      "The agreement percentage between the annotators:\n",
      "           Axel GOLD  Erik GOLD\n",
      "Axel GOLD   1.000000   0.818296\n",
      "Erik GOLD   0.818296   1.000000\n",
      "\n",
      "The Cohen's Kappa between the annotators:\n",
      "           Axel GOLD  Erik GOLD\n",
      "Axel GOLD   1.000000   0.608581\n",
      "Erik GOLD   0.608581   1.000000\n"
     ]
    }
   ],
   "source": [
    "import numpy as np\n",
    "from sklearn.metrics import cohen_kappa_score\n",
    "\n",
    "# Agreememt percentage\n",
    "agreement = np.zeros((len(annotations), len(annotations)))\n",
    "cohen_kappa = np.zeros((len(annotations), len(annotations)))\n",
    "\n",
    "for anno_idx in range(len(annotations)):\n",
    "    for i in range(len(annotations[anno_idx])):\n",
    "        for anno_2_idx in range(len(annotations)):\n",
    "            agreement[anno_idx, anno_2_idx] = np.mean(annotations[anno_idx]['Annotation'] == annotations[anno_2_idx]['Annotation'])\n",
    "            cohen_kappa[anno_idx, anno_2_idx] = cohen_kappa_score(annotations[anno_idx]['Annotation'], annotations[anno_2_idx]['Annotation'])\n",
    "\n",
    "agreement_df = pd.DataFrame(agreement, columns=annotator_names, index=annotator_names)\n",
    "cohen_kappa_df = pd.DataFrame(cohen_kappa, columns=annotator_names, index=annotator_names)\n",
    "\n",
    "print(f\"The total number of annotations: {len(annotations[0])}\\n\")\n",
    "print(f\"The agreement percentage between the annotators:\\n{agreement_df}\\n\")\n",
    "print(f\"The Cohen's Kappa between the annotators:\\n{cohen_kappa_df}\") \n",
    "# Kappa value interpretation Landis & Koch (1977):\n",
    "# <0 No agreement\n",
    "# 0 — .20 Slight\n",
    "# .21 — .40 Fair\n",
    "# .41 — .60 Moderate\n",
    "# .61 — .80 Substantial\n",
    "# .81–1.0 Perfect\n"
   ]
  },
  {
   "cell_type": "code",
   "execution_count": null,
   "metadata": {},
   "outputs": [],
   "source": []
  }
 ],
 "metadata": {
  "kernelspec": {
   "display_name": "py39-mac",
   "language": "python",
   "name": "python3"
  },
  "language_info": {
   "codemirror_mode": {
    "name": "ipython",
    "version": 3
   },
   "file_extension": ".py",
   "mimetype": "text/x-python",
   "name": "python",
   "nbconvert_exporter": "python",
   "pygments_lexer": "ipython3",
   "version": "3.11.9"
  }
 },
 "nbformat": 4,
 "nbformat_minor": 2
}
