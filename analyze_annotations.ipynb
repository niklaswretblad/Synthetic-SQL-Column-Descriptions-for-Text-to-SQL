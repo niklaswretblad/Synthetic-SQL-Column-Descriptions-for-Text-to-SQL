{
 "cells": [
  {
   "cell_type": "code",
   "execution_count": 18,
   "metadata": {},
   "outputs": [
    {
     "name": "stdout",
     "output_type": "stream",
     "text": [
      "             database_name table_name original_column_name  \\\n",
      "0  debit_card_specializing  yearmonth           CustomerID   \n",
      "1  debit_card_specializing  yearmonth                 Date   \n",
      "2  debit_card_specializing  yearmonth          Consumption   \n",
      "\n",
      "                                    GOLD Description  \\\n",
      "0              The unique identifier for a customer.   \n",
      "1             The year and month of the consumption.   \n",
      "2  The consumption value for a customer in a spec...   \n",
      "\n",
      "                                    LLM 1 Descripton   Annotation LLM 1  \\\n",
      "0  The CustomerID column uniquely identifies a cu...  3. Almost perfect   \n",
      "1  The Date column records the specific month and...  3. Almost perfect   \n",
      "2  The Consumption column tracks the amount of pr...       1. Incorrect   \n",
      "\n",
      "                                    LLM 2 Descripton   Annotation LLM 2  \\\n",
      "0  The CustomerID column serves as a unique ident...         4. Perfect   \n",
      "1  The Date column stores the month and year of a...         4. Perfect   \n",
      "2  The Consumption column stores the total amount...  3. Almost perfect   \n",
      "\n",
      "                                    LLM 3 Descripton   Annotation LLM 3  \\\n",
      "0  The CustomerID column references the unique id...         4. Perfect   \n",
      "1  The primary purpose of the column is to record...  3. Almost perfect   \n",
      "2  The Consumption column represents the amount o...         4. Perfect   \n",
      "\n",
      "                                               NOTES         Annotation  \n",
      "0  Viss inkonsekvens i GOLD. Ibland är kontext in...         4. Perfect  \n",
      "1  Edgecase: OM den påstår att det inte finns til...  3. Almost perfect  \n",
      "2  Man måste ha tungan rätt i mun när dom snackar...         4. Perfect  \n",
      "             database_name table_name original_column_name  \\\n",
      "0  debit_card_specializing  yearmonth           CustomerID   \n",
      "1  debit_card_specializing  yearmonth                 Date   \n",
      "2  debit_card_specializing  yearmonth          Consumption   \n",
      "\n",
      "                                    GOLD Description  \\\n",
      "0              The unique identifier for a customer.   \n",
      "1             The year and month of the consumption.   \n",
      "2  The consumption value for a customer in a spec...   \n",
      "\n",
      "                                    LLM 1 Descripton   Annotation LLM 1  \\\n",
      "0  The CustomerID column uniquely identifies a cu...  3. Almost perfect   \n",
      "1  The Date column records the specific month and...  3. Almost perfect   \n",
      "2  The Consumption column tracks the amount of pr...  3. Almost perfect   \n",
      "\n",
      "                                    LLM 2 Descripton   Annotation LLM 2  \\\n",
      "0  The CustomerID column serves as a unique ident...  3. Almost perfect   \n",
      "1  The Date column stores the month and year of a...  3. Almost perfect   \n",
      "2  The Consumption column stores the total amount...         4. Perfect   \n",
      "\n",
      "                                    LLM 3 Descripton   Annotation LLM 3  \\\n",
      "0  The CustomerID column references the unique id...         4. Perfect   \n",
      "1  The primary purpose of the column is to record...  3. Almost perfect   \n",
      "2  The Consumption column represents the amount o...         4. Perfect   \n",
      "\n",
      "          Annotation  \n",
      "0         4. Perfect  \n",
      "1  3. Almost perfect  \n",
      "2         4. Perfect  \n"
     ]
    }
   ],
   "source": [
    "import pandas as pd\n",
    "\n",
    "annotator_names = ['Oscar', 'Forsberg']\n",
    "annotations = []\n",
    "\n",
    "for name in annotator_names:\n",
    "    annotations.append(pd.read_excel('annotations/LLM Prediction Annotations.xlsx', sheet_name=name))\n",
    "\n",
    "for annotation in annotations:\n",
    "    annotation['Annotation'] = annotation['Annotation LLM 3'].fillna('No description')\n",
    "    print(annotation.head(3))"
   ]
  },
  {
   "cell_type": "code",
   "execution_count": 19,
   "metadata": {},
   "outputs": [
    {
     "name": "stdout",
     "output_type": "stream",
     "text": [
      "The total number of annotations: 799\n",
      "\n",
      "The agreement percentage between the annotators:\n",
      "             Oscar  Forsberg\n",
      "Oscar     1.000000  0.774718\n",
      "Forsberg  0.774718  1.000000\n",
      "\n",
      "The Cohen's Kappa between the annotators:\n",
      "             Oscar  Forsberg\n",
      "Oscar     1.000000  0.486355\n",
      "Forsberg  0.486355  1.000000\n"
     ]
    }
   ],
   "source": [
    "import numpy as np\n",
    "from sklearn.metrics import cohen_kappa_score\n",
    "\n",
    "# Agreememt percentage\n",
    "agreement = np.zeros((len(annotations), len(annotations)))\n",
    "cohen_kappa = np.zeros((len(annotations), len(annotations)))\n",
    "\n",
    "for anno_idx in range(len(annotations)):\n",
    "    for i in range(len(annotations[anno_idx])):\n",
    "        for anno_2_idx in range(len(annotations)):\n",
    "            agreement[anno_idx, anno_2_idx] = np.mean(annotations[anno_idx]['Annotation'] == annotations[anno_2_idx]['Annotation'])\n",
    "            cohen_kappa[anno_idx, anno_2_idx] = cohen_kappa_score(annotations[anno_idx]['Annotation'], annotations[anno_2_idx]['Annotation'])\n",
    "\n",
    "agreement_df = pd.DataFrame(agreement, columns=annotator_names, index=annotator_names)\n",
    "cohen_kappa_df = pd.DataFrame(cohen_kappa, columns=annotator_names, index=annotator_names)\n",
    "\n",
    "print(f\"The total number of annotations: {len(annotations[0])}\\n\")\n",
    "print(f\"The agreement percentage between the annotators:\\n{agreement_df}\\n\")\n",
    "print(f\"The Cohen's Kappa between the annotators:\\n{cohen_kappa_df}\") \n",
    "# Kappa value interpretation Landis & Koch (1977):\n",
    "# <0 No agreement\n",
    "# 0 — .20 Slight\n",
    "# .21 — .40 Fair\n",
    "# .41 — .60 Moderate\n",
    "# .61 — .80 Substantial\n",
    "# .81–1.0 Perfect\n"
   ]
  },
  {
   "cell_type": "code",
   "execution_count": null,
   "metadata": {},
   "outputs": [],
   "source": []
  }
 ],
 "metadata": {
  "kernelspec": {
   "display_name": "py39-mac",
   "language": "python",
   "name": "python3"
  },
  "language_info": {
   "codemirror_mode": {
    "name": "ipython",
    "version": 3
   },
   "file_extension": ".py",
   "mimetype": "text/x-python",
   "name": "python",
   "nbconvert_exporter": "python",
   "pygments_lexer": "ipython3",
   "version": "3.11.9"
  }
 },
 "nbformat": 4,
 "nbformat_minor": 2
}
